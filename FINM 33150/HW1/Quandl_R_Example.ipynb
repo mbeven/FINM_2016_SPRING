{
 "cells": [
  {
   "cell_type": "markdown",
   "metadata": {},
   "source": [
    "# Using R With Quandl Data"
   ]
  },
  {
   "cell_type": "markdown",
   "metadata": {},
   "source": [
    "We begin by ensuring a few key R packages are loaded"
   ]
  },
  {
   "cell_type": "code",
   "execution_count": null,
   "metadata": {
    "collapsed": false
   },
   "outputs": [],
   "source": [
    "library(MASS)\n",
    "library(Quandl)\n",
    "library(ggplot2)\n",
    "library(stringr)\n",
    "library(R.cache)"
   ]
  },
  {
   "cell_type": "markdown",
   "metadata": {},
   "source": [
    "We are likely to run this notebook over and over, so we add memoizaiton to the data loading function.  This makes testing and re-running our code far faster, and even lets us work offline."
   ]
  },
  {
   "cell_type": "code",
   "execution_count": null,
   "metadata": {
    "collapsed": true
   },
   "outputs": [],
   "source": [
    "reload.data = TRUE\n",
    "QLoad <- R.cache::addMemoization(Quandl::Quandl)"
   ]
  },
  {
   "cell_type": "markdown",
   "metadata": {},
   "source": [
    "### Load the Data"
   ]
  },
  {
   "cell_type": "markdown",
   "metadata": {},
   "source": [
    "Now we have the code that loads our raw data for Exxon Mobil (XOM) and the Oil futures."
   ]
  },
  {
   "cell_type": "code",
   "execution_count": null,
   "metadata": {
    "collapsed": false
   },
   "outputs": [],
   "source": [
    "if (reload.data) {\n",
    "    py <- plotly('brianboonstra', BrianBoonstraPrivateKeys.Plotly.API)\n",
    "    Quandl.auth(BrianBoonstraPrivateKeys.Quandl)\n",
    "    cat(\"Data Reload/n\")\n",
    "    xom.raw <- QLoad(c('WIKI/XOM'))\n",
    "    oil.raw <- QLoad(c('NSE/OIL'))\n",
    "    }\n"
   ]
  },
  {
   "cell_type": "markdown",
   "metadata": {},
   "source": [
    "Adjust column names so that we can merge the two data sets into a single data frame for analysis"
   ]
  },
  {
   "cell_type": "code",
   "execution_count": null,
   "metadata": {
    "collapsed": true
   },
   "outputs": [],
   "source": [
    "xom <- xom.raw\n",
    "oil <- oil.raw\n",
    "names(xom) <- paste(\"WIKI.XOM -\",names(xom))\n",
    "names(oil) <- paste(\"NSE.OIL -\",names(oil))\n",
    "names(xom)[1] <-\"Date\"\n",
    "names(oil)[1] <-\"Date\"\n",
    "raw_data = merge(xom, oil)\n",
    "names(raw_data)"
   ]
  },
  {
   "cell_type": "markdown",
   "metadata": {},
   "source": [
    "Peek at the data"
   ]
  },
  {
   "cell_type": "code",
   "execution_count": null,
   "metadata": {
    "collapsed": false
   },
   "outputs": [],
   "source": [
    "head(raw_data)"
   ]
  },
  {
   "cell_type": "markdown",
   "metadata": {},
   "source": [
    "### Common Quant Task: Massaging The Data"
   ]
  },
  {
   "cell_type": "markdown",
   "metadata": {},
   "source": [
    "Here we create a function that cleans up column names in our data, for better-looking plot labels and plot specifications"
   ]
  },
  {
   "cell_type": "code",
   "execution_count": null,
   "metadata": {
    "collapsed": false
   },
   "outputs": [],
   "source": [
    "clean.quandl.name <- function(x) {\n",
    "    cleaned <- x\n",
    "    if (x=='Date') {\n",
    "        \n",
    "    } else {\n",
    "        tryCatch({\n",
    "                    parts <- stringr::str_split(x, \" - \",n=2)\n",
    "                    first.parts <- stringr::str_split(parts[[1]][[1]], \"\\\\.\",n=2)\n",
    "                    cleaned <- paste(first.parts[[1]][[2]], parts[[1]][[2]], sep=\".\")\n",
    "                    cleaned <- str_replace_all(cleaned,\" \",\"\")\n",
    "                    },\n",
    "                 error = function(e) {cat(paste0(\"Err on\",x,\"\\n\"))}\n",
    "                 )\n",
    "    }\n",
    "    stringr::str_trim(cleaned)\n",
    "}"
   ]
  },
  {
   "cell_type": "markdown",
   "metadata": {},
   "source": [
    "Now we can use the _clean.quandl.name_ function to make a better set of column names"
   ]
  },
  {
   "cell_type": "code",
   "execution_count": null,
   "metadata": {
    "collapsed": false,
    "scrolled": true
   },
   "outputs": [],
   "source": [
    "fixed.names <- lapply(names(raw_data),clean.quandl.name)\n",
    "cat(paste(fixed.names,sep=\"\\n\"))\n",
    "renamed_data <- raw_data\n",
    "names(renamed_data) <- fixed.names"
   ]
  },
  {
   "cell_type": "markdown",
   "metadata": {},
   "source": [
    "### Examining The Data"
   ]
  },
  {
   "cell_type": "markdown",
   "metadata": {},
   "source": [
    "Make a standard linear fit"
   ]
  },
  {
   "cell_type": "code",
   "execution_count": null,
   "metadata": {
    "collapsed": false
   },
   "outputs": [],
   "source": [
    "modl <- lm(XOM.Open~OIL.Open, data=renamed_data)\n",
    "summary(modl)"
   ]
  },
  {
   "cell_type": "markdown",
   "metadata": {},
   "source": [
    "#### Our linear fit has a *great* t-statistic.  It must be a superb description of the data!"
   ]
  },
  {
   "cell_type": "markdown",
   "metadata": {},
   "source": [
    "But isn't it suspicious that the slope is negative rather than positive?  Let's take a closer look"
   ]
  },
  {
   "cell_type": "code",
   "execution_count": null,
   "metadata": {
    "collapsed": false
   },
   "outputs": [],
   "source": [
    "gp <- ggplot(renamed_data, aes(x=OIL.Open, y=XOM.Open))+geom_point()+geom_smooth(method=lm)"
   ]
  },
  {
   "cell_type": "code",
   "execution_count": null,
   "metadata": {
    "collapsed": false
   },
   "outputs": [],
   "source": [
    "print(gp)"
   ]
  },
  {
   "cell_type": "code",
   "execution_count": null,
   "metadata": {
    "collapsed": true
   },
   "outputs": [],
   "source": []
  }
 ],
 "metadata": {
  "kernelspec": {
   "display_name": "Python 3",
   "language": "python",
   "name": "python3"
  },
  "language_info": {
   "codemirror_mode": {
    "name": "ipython",
    "version": 3
   },
   "file_extension": ".py",
   "mimetype": "text/x-python",
   "name": "python",
   "nbconvert_exporter": "python",
   "pygments_lexer": "ipython3",
   "version": "3.4.4"
  }
 },
 "nbformat": 4,
 "nbformat_minor": 0
}
