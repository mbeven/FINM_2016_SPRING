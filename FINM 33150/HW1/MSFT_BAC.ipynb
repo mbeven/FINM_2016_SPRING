{
 "cells": [
  {
   "cell_type": "markdown",
   "metadata": {},
   "source": [
    "#### Michael Beven\n",
    "#### University of Chicago - Financial Mathematics\n",
    "#### Quantitative Strategies and Regression - FINM 33150\n",
    "##### Problem 1"
   ]
  },
  {
   "cell_type": "code",
   "execution_count": 4,
   "metadata": {
    "collapsed": false
   },
   "outputs": [
    {
     "name": "stdout",
     "output_type": "stream",
     "text": [
      "Script/file name: ['/Users/michaelbeven/anaconda/lib/python3.4/site-packages/ipykernel/__main__.py', '-f', '/Users/michaelbeven/Library/Jupyter/runtime/kernel-fa84868f-7d38-4106-b832-35713a13e275.json']\n"
     ]
    }
   ],
   "source": [
    "# make plots come up in this window\n",
    "%matplotlib inline \n",
    "\n",
    "# import packages\n",
    "import sys\n",
    "import matplotlib.pyplot as plt\n",
    "import pandas as pd\n",
    "import numpy as np\n",
    "import scipy as sp\n",
    "from pandas.stats.api import ols\n",
    "import Quandl\n",
    "import functools\n",
    "import seaborn as sns\n",
    "import ggplot as gg\n",
    "\n",
    "script = sys.argv\n",
    "\n",
    "print('Script/file name: {}' .format(script))"
   ]
  },
  {
   "cell_type": "code",
   "execution_count": 5,
   "metadata": {
    "collapsed": false
   },
   "outputs": [
    {
     "name": "stdout",
     "output_type": "stream",
     "text": [
      "                              0\n",
      "0             YAHOO.MSFT - Open\n",
      "1             YAHOO.MSFT - High\n",
      "2              YAHOO.MSFT - Low\n",
      "3            YAHOO.MSFT - Close\n",
      "4           YAHOO.MSFT - Volume\n",
      "5   YAHOO.MSFT - Adjusted Close\n",
      "6               WIKI.BAC - Open\n",
      "7               WIKI.BAC - High\n",
      "8                WIKI.BAC - Low\n",
      "9              WIKI.BAC - Close\n",
      "10            WIKI.BAC - Volume\n",
      "11       WIKI.BAC - Ex-Dividend\n",
      "12       WIKI.BAC - Split Ratio\n",
      "13         WIKI.BAC - Adj. Open\n",
      "14         WIKI.BAC - Adj. High\n",
      "15          WIKI.BAC - Adj. Low\n",
      "16        WIKI.BAC - Adj. Close\n",
      "17       WIKI.BAC - Adj. Volume\n"
     ]
    }
   ],
   "source": [
    "# grab data\n",
    "raw_data = Quandl.get(list((\"YAHOO/MSFT\",\"WIKI/BAC\")),\n",
    "    authtoken=\"v21snmSix9KyXBWc1RkF\",\n",
    "    trim_start=\"1990-10-15\",\n",
    "    trim_end=\"1990-11-09\",\n",
    "    returns=\"pandas\")\n",
    "print(pd.DataFrame(raw_data.columns))"
   ]
  },
  {
   "cell_type": "code",
   "execution_count": 6,
   "metadata": {
    "collapsed": false
   },
   "outputs": [
    {
     "name": "stdout",
     "output_type": "stream",
     "text": [
      "Date\n",
      "1990-10-15    56.499840\n",
      "1990-10-16    54.624959\n",
      "1990-10-17    56.499840\n",
      "1990-10-18    61.125119\n",
      "1990-10-19    61.999918\n",
      "1990-10-22    64.000082\n",
      "1990-10-23    64.249918\n",
      "1990-10-24    65.375278\n",
      "1990-10-25    64.750319\n",
      "1990-10-26    63.375119\n",
      "1990-10-29    62.500319\n",
      "1990-10-30    63.874799\n",
      "1990-10-31    63.750242\n",
      "1990-11-01    63.499681\n",
      "1990-11-02    65.000160\n",
      "1990-11-05    65.625119\n",
      "1990-11-06    64.249918\n",
      "1990-11-07    63.750242\n",
      "1990-11-08    63.499681\n",
      "1990-11-09    64.750319\n",
      "Name: YAHOO.MSFT - Close, dtype: float64\n",
      "Date\n",
      "1990-10-15    21.25\n",
      "1990-10-16    21.12\n",
      "1990-10-17    20.38\n",
      "1990-10-18    19.50\n",
      "1990-10-19    19.12\n",
      "1990-10-22    19.50\n",
      "1990-10-23    18.88\n",
      "1990-10-24    19.12\n",
      "1990-10-25    18.88\n",
      "1990-10-26    17.88\n",
      "1990-10-29    17.25\n",
      "1990-10-30    17.00\n",
      "1990-10-31    17.25\n",
      "1990-11-01    18.50\n",
      "1990-11-02    19.88\n",
      "1990-11-05    20.38\n",
      "1990-11-06    20.12\n",
      "1990-11-07    20.50\n",
      "1990-11-08    21.38\n",
      "1990-11-09    21.75\n",
      "Name: WIKI.BAC - Close, dtype: float64\n"
     ]
    }
   ],
   "source": [
    "# take a subset of columns of the close data\n",
    "raw_data_close = raw_data.ix[:,('YAHOO.MSFT - Close','WIKI.BAC - Close')]\n",
    "\n",
    "# can look through all the columns to see output\n",
    "print(raw_data_close.ix[:,'YAHOO.MSFT - Close'])\n",
    "print(raw_data_close.ix[:,'WIKI.BAC - Close'])"
   ]
  },
  {
   "cell_type": "code",
   "execution_count": 7,
   "metadata": {
    "collapsed": false
   },
   "outputs": [
    {
     "name": "stdout",
     "output_type": "stream",
     "text": [
      "\n",
      "-------------------------Summary of Regression Analysis-------------------------\n",
      "\n",
      "Formula: Y ~ <x> + <intercept>\n",
      "\n",
      "Number of Observations:         20\n",
      "Number of Degrees of Freedom:   2\n",
      "\n",
      "R-squared:         0.1061\n",
      "Adj R-squared:     0.0565\n",
      "\n",
      "Rmse:              3.0415\n",
      "\n",
      "F-stat (1, 18):     2.1371, p-value:     0.1610\n",
      "\n",
      "Degrees of Freedom: model 1, resid 18\n",
      "\n",
      "-----------------------Summary of Estimated Coefficients------------------------\n",
      "      Variable       Coef    Std Err     t-stat    p-value    CI 2.5%   CI 97.5%\n",
      "--------------------------------------------------------------------------------\n",
      "             x    -0.7174     0.4907      -1.46     0.1610    -1.6792     0.2444\n",
      "     intercept    76.6265     9.5847       7.99     0.0000    57.8405    95.4125\n",
      "---------------------------------End of Summary---------------------------------\n",
      "\n"
     ]
    }
   ],
   "source": [
    "# run an OLS regression of MSFT on BAC close prices\n",
    "regress = ols(y=raw_data_close[\"YAHOO.MSFT - Close\"], x=raw_data_close[\"WIKI.BAC - Close\"])\n",
    "print(regress)"
   ]
  },
  {
   "cell_type": "code",
   "execution_count": 8,
   "metadata": {
    "collapsed": false
   },
   "outputs": [
    {
     "name": "stdout",
     "output_type": "stream",
     "text": [
      "\n",
      "-------------------------Summary of Regression Analysis-------------------------\n",
      "\n",
      "Formula: Y ~ <x> + <intercept>\n",
      "\n",
      "Number of Observations:         18\n",
      "Number of Degrees of Freedom:   2\n",
      "\n",
      "R-squared:         0.0039\n",
      "Adj R-squared:    -0.0583\n",
      "\n",
      "Rmse:              0.0269\n",
      "\n",
      "F-stat (1, 16):     0.0630, p-value:     0.8050\n",
      "\n",
      "Degrees of Freedom: model 1, resid 16\n",
      "\n",
      "-----------------------Summary of Estimated Coefficients------------------------\n",
      "      Variable       Coef    Std Err     t-stat    p-value    CI 2.5%   CI 97.5%\n",
      "--------------------------------------------------------------------------------\n",
      "             x    -0.0445     0.1773      -0.25     0.8050    -0.3921     0.3031\n",
      "     intercept     0.0065     0.0063       1.03     0.3206    -0.0059     0.0189\n",
      "---------------------------------End of Summary---------------------------------\n",
      "\n"
     ]
    }
   ],
   "source": [
    "# calculate log returns on close prices\n",
    "N = len(raw_data)\n",
    "log_rets = np.log(raw_data_close) - np.log(raw_data_close.shift(1))\n",
    "# remove NaN in first row\n",
    "log_rets = log_rets.ix[1:-1,:]\n",
    "\n",
    "# run an OLS regression of MSFT on BAC returns\n",
    "regress_log_rets = ols(y=log_rets[\"YAHOO.MSFT - Close\"], x=log_rets[\"WIKI.BAC - Close\"])\n",
    "print(regress_log_rets)"
   ]
  }
 ],
 "metadata": {
  "kernelspec": {
   "display_name": "Python 3",
   "language": "python",
   "name": "python3"
  },
  "language_info": {
   "codemirror_mode": {
    "name": "ipython",
    "version": 3
   },
   "file_extension": ".py",
   "mimetype": "text/x-python",
   "name": "python",
   "nbconvert_exporter": "python",
   "pygments_lexer": "ipython3",
   "version": "3.4.4"
  }
 },
 "nbformat": 4,
 "nbformat_minor": 0
}
