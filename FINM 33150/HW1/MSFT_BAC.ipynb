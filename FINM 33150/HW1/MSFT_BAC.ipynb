{
 "cells": [
  {
   "cell_type": "markdown",
   "metadata": {},
   "source": [
    "#### Michael Beven\n",
    "#### University of Chicago - Financial Mathematics\n",
    "#### Quantitative Strategies and Regression - FINM 33150\n",
    "##### Problem 1"
   ]
  },
  {
   "cell_type": "code",
   "execution_count": 14,
   "metadata": {
    "collapsed": false
   },
   "outputs": [
    {
     "name": "stdout",
     "output_type": "stream",
     "text": [
      "Script/file name: ['/Users/michaelbeven/anaconda/lib/python3.4/site-packages/ipykernel/__main__.py', '-f', '/Users/michaelbeven/Library/Jupyter/runtime/kernel-6640d4b6-2351-4cf5-9e77-443a9243fc10.json']\n"
     ]
    }
   ],
   "source": [
    "# make plots come up in this window\n",
    "%matplotlib inline \n",
    "\n",
    "# import packages\n",
    "import sys\n",
    "import matplotlib.pyplot as plt\n",
    "import pandas as pd\n",
    "import numpy as np\n",
    "import scipy as sp\n",
    "from pandas.stats.api import ols\n",
    "import Quandl\n",
    "import functools\n",
    "import seaborn as sns\n",
    "import ggplot as gg\n",
    "\n",
    "script = sys.argv\n",
    "\n",
    "print('Script/file name: {}' .format(script))"
   ]
  },
  {
   "cell_type": "code",
   "execution_count": 15,
   "metadata": {
    "collapsed": false
   },
   "outputs": [
    {
     "name": "stdout",
     "output_type": "stream",
     "text": [
      "                              0\n",
      "0             YAHOO.MSFT - Open\n",
      "1             YAHOO.MSFT - High\n",
      "2              YAHOO.MSFT - Low\n",
      "3            YAHOO.MSFT - Close\n",
      "4           YAHOO.MSFT - Volume\n",
      "5   YAHOO.MSFT - Adjusted Close\n",
      "6               WIKI.BAC - Open\n",
      "7               WIKI.BAC - High\n",
      "8                WIKI.BAC - Low\n",
      "9              WIKI.BAC - Close\n",
      "10            WIKI.BAC - Volume\n",
      "11       WIKI.BAC - Ex-Dividend\n",
      "12       WIKI.BAC - Split Ratio\n",
      "13         WIKI.BAC - Adj. Open\n",
      "14         WIKI.BAC - Adj. High\n",
      "15          WIKI.BAC - Adj. Low\n",
      "16        WIKI.BAC - Adj. Close\n",
      "17       WIKI.BAC - Adj. Volume\n"
     ]
    }
   ],
   "source": [
    "# grab data\n",
    "raw_data = Quandl.get(list((\"YAHOO/MSFT\",\"WIKI/BAC\")),\n",
    "    authtoken=\"v21snmSix9KyXBWc1RkF\",\n",
    "    trim_start=\"2015-10-15\",\n",
    "    trim_end=\"2015-11-09\",\n",
    "    returns=\"pandas\")\n",
    "print(pd.DataFrame(raw_data.columns))"
   ]
  },
  {
   "cell_type": "code",
   "execution_count": 16,
   "metadata": {
    "collapsed": false
   },
   "outputs": [
    {
     "name": "stdout",
     "output_type": "stream",
     "text": [
      "Date\n",
      "2015-10-15    47.009998\n",
      "2015-10-16    47.509998\n",
      "2015-10-19    47.619999\n",
      "2015-10-20    47.770000\n",
      "2015-10-21    47.200001\n",
      "2015-10-22    48.029999\n",
      "2015-10-23    52.869999\n",
      "2015-10-26    54.250000\n",
      "2015-10-27    53.689999\n",
      "2015-10-28    53.980000\n",
      "2015-10-29    53.360001\n",
      "2015-10-30    52.639999\n",
      "2015-11-02    53.240002\n",
      "2015-11-03    54.150002\n",
      "2015-11-04    54.400002\n",
      "2015-11-05    54.380001\n",
      "2015-11-06    54.919998\n",
      "2015-11-09    54.160000\n",
      "Name: YAHOO.MSFT - Close, dtype: float64\n",
      "Date\n",
      "2015-10-15    16.19\n",
      "2015-10-16    16.12\n",
      "2015-10-19    16.14\n",
      "2015-10-20    16.20\n",
      "2015-10-21    15.90\n",
      "2015-10-22    16.16\n",
      "2015-10-23    16.52\n",
      "2015-10-26    16.51\n",
      "2015-10-27    16.40\n",
      "2015-10-28    17.28\n",
      "2015-10-29    17.09\n",
      "2015-10-30    16.78\n",
      "2015-11-02    17.06\n",
      "2015-11-03    17.18\n",
      "2015-11-04    17.01\n",
      "2015-11-05    17.31\n",
      "2015-11-06    17.95\n",
      "2015-11-09    17.68\n",
      "Name: WIKI.BAC - Close, dtype: float64\n"
     ]
    }
   ],
   "source": [
    "# take a subset of columns of the close data\n",
    "raw_data_close = raw_data.ix[:,('YAHOO.MSFT - Close','WIKI.BAC - Close')]\n",
    "\n",
    "# can look through all the columns to see output\n",
    "print(raw_data_close.ix[:,'YAHOO.MSFT - Close'])\n",
    "print(raw_data_close.ix[:,'WIKI.BAC - Close'])"
   ]
  },
  {
   "cell_type": "code",
   "execution_count": 17,
   "metadata": {
    "collapsed": false
   },
   "outputs": [
    {
     "name": "stdout",
     "output_type": "stream",
     "text": [
      "\n",
      "-------------------------Summary of Regression Analysis-------------------------\n",
      "\n",
      "Formula: Y ~ <x> + <intercept>\n",
      "\n",
      "Number of Observations:         18\n",
      "Number of Degrees of Freedom:   2\n",
      "\n",
      "R-squared:         0.6765\n",
      "Adj R-squared:     0.6563\n",
      "\n",
      "Rmse:              1.8280\n",
      "\n",
      "F-stat (1, 16):    33.4637, p-value:     0.0000\n",
      "\n",
      "Degrees of Freedom: model 1, resid 16\n",
      "\n",
      "-----------------------Summary of Estimated Coefficients------------------------\n",
      "      Variable       Coef    Std Err     t-stat    p-value    CI 2.5%   CI 97.5%\n",
      "--------------------------------------------------------------------------------\n",
      "             x     4.2979     0.7430       5.78     0.0000     2.8417     5.7542\n",
      "     intercept   -20.2536    12.4515      -1.63     0.1234   -44.6585     4.1512\n",
      "---------------------------------End of Summary---------------------------------\n",
      "\n"
     ]
    }
   ],
   "source": [
    "# run an OLS regression of MSFT on BAC close prices\n",
    "regress = ols(y=raw_data_close[\"YAHOO.MSFT - Close\"], x=raw_data_close[\"WIKI.BAC - Close\"])\n",
    "print(regress)"
   ]
  },
  {
   "cell_type": "code",
   "execution_count": 18,
   "metadata": {
    "collapsed": false
   },
   "outputs": [
    {
     "name": "stdout",
     "output_type": "stream",
     "text": [
      "\n",
      "-------------------------Summary of Regression Analysis-------------------------\n",
      "\n",
      "Formula: Y ~ <x> + <intercept>\n",
      "\n",
      "Number of Observations:         16\n",
      "Number of Degrees of Freedom:   2\n",
      "\n",
      "R-squared:         0.1486\n",
      "Adj R-squared:     0.0878\n",
      "\n",
      "Rmse:              0.0246\n",
      "\n",
      "F-stat (1, 14):     2.4437, p-value:     0.1403\n",
      "\n",
      "Degrees of Freedom: model 1, resid 14\n",
      "\n",
      "-----------------------Summary of Estimated Coefficients------------------------\n",
      "      Variable       Coef    Std Err     t-stat    p-value    CI 2.5%   CI 97.5%\n",
      "--------------------------------------------------------------------------------\n",
      "             x     0.5069     0.3243       1.56     0.1403    -0.1287     1.1424\n",
      "     intercept     0.0065     0.0065       0.99     0.3372    -0.0063     0.0192\n",
      "---------------------------------End of Summary---------------------------------\n",
      "\n"
     ]
    }
   ],
   "source": [
    "# calculate log returns on close prices\n",
    "N = len(raw_data)\n",
    "log_rets = np.log(raw_data_close) - np.log(raw_data_close.shift(1))\n",
    "# remove NaN in first row\n",
    "log_rets = log_rets.ix[1:-1,:]\n",
    "\n",
    "# run an OLS regression of MSFT on BAC returns\n",
    "regress_log_rets = ols(y=log_rets[\"YAHOO.MSFT - Close\"], x=log_rets[\"WIKI.BAC - Close\"])\n",
    "print(regress_log_rets)"
   ]
  },
  {
   "cell_type": "code",
   "execution_count": 19,
   "metadata": {
    "collapsed": false
   },
   "outputs": [
    {
     "data": {
      "text/plain": [
       "<matplotlib.text.Text at 0x10bfd0240>"
      ]
     },
     "execution_count": 19,
     "metadata": {},
     "output_type": "execute_result"
    },
    {
     "data": {
      "image/png": "[encoded data removed]",
      "text/plain": [
       "<matplotlib.figure.Figure at 0x10bca5320>"
      ]
     },
     "metadata": {},
     "output_type": "display_data"
    },
    {
     "data": {
      "image/png": "[encoded data removed]",
      "text/plain": [
       "<matplotlib.figure.Figure at 0x10bc5cac8>"
      ]
     },
     "metadata": {},
     "output_type": "display_data"
    }
   ],
   "source": [
    "# plot prices regression\n",
    "x = regress.x['x']\n",
    "y = regress.beta[0]*x+regress.beta[1]\n",
    "plt.figure(1,figsize=(8,8))\n",
    "plt.plot(x,y)\n",
    "plt.scatter(x,regress.y)\n",
    "plt.ylabel('YAHOO.MSFT - Close')\n",
    "plt.xlabel('WIKI.BAC - Close')\n",
    "plt.title('Regression of Microsoft Close Price on Bank of America Close Price',fontsize=16)\n",
    "\n",
    "# plot returns regression\n",
    "x = regress_log_rets.x['x']\n",
    "y = regress_log_rets.beta[0]*x+regress_log_rets.beta[1]\n",
    "plt.figure(2,figsize=(8,8))\n",
    "plt.plot(x,y)\n",
    "plt.scatter(x,regress_log_rets.y)\n",
    "plt.ylabel('YAHOO.MSFT - Close')\n",
    "plt.xlabel('WIKI.BAC - Close')\n",
    "plt.title('Regression of Microsoft Close Return on Bank of America Close Return',fontsize=16)"
   ]
  }
 ],
 "metadata": {
  "kernelspec": {
   "display_name": "Python 3",
   "language": "python",
   "name": "python3"
  },
  "language_info": {
   "codemirror_mode": {
    "name": "ipython",
    "version": 3
   },
   "file_extension": ".py",
   "mimetype": "text/x-python",
   "name": "python",
   "nbconvert_exporter": "python",
   "pygments_lexer": "ipython3",
   "version": "3.4.4"
  }
 },
 "nbformat": 4,
 "nbformat_minor": 0
}
