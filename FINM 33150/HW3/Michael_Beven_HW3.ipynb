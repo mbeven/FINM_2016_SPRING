{
 "cells": [
  {
   "cell_type": "markdown",
   "metadata": {},
   "source": [
    "### Michael Beven - 455613\n",
    "### University of Chicago - Financial Mathematics\n",
    "### FINM 33150 - Quantitative Strategies and Regression\n",
    "### Homework 3"
   ]
  },
  {
   "cell_type": "markdown",
   "metadata": {},
   "source": [
    "#### Tables and column descriptions\n",
    "\n",
    "* **The strategy dataframe**: \n",
    " * ``` XP ``` ~ Adjusted price of security X\n",
    " * ``` XV ``` ~ Adjusted volume of security X\n",
    " * ``` YP ``` ~ Adjusted price of security Y\n",
    " * ``` YV ``` ~ Adjusted volume of security Y\n",
    " * ``` XDDV ``` ~ Daily dollar volume of security X\n",
    " * ``` Nt ``` ~ 15 day rolling median of ``` XDDV ```\n",
    " * ``` XR ``` ~ Log return of X\n",
    " * ``` YR ``` ~ Log return of Y\n",
    " * ``` Delta ``` ~ ``` XR ``` - ``` YR ```\n",
    " * ``` DeltaM ``` ~ M day sume of ``` Delta ```\n",
    " * ``` Signal ``` ~ Buy, short, exit signal (-1, 0 or 1)\n",
    " * ``` EOM ``` ~ End of month indicator\n",
    " * ``` Entry ``` ~ Entry day indicator\n",
    " * ``` Exit ``` ~ Exit day indicator\n",
    " * ``` Nx ``` ~ Number of X shares bought/shorted\n",
    " * ``` Ny ``` ~ Number of Y shares bought/shorted\n",
    " * ``` Profit ``` ~ ``` Signal ```(``` Nx ``` $\\times$ ``` XR ``` - ``` Ny ``` $\\times$ ``` YR```)\n",
    " * ``` Cum_Profit ``` ~ Cumulative profit\n",
    " * ``` K ``` ~ Cumulative capital\n",
    " * ``` Return  ``` ~ Annualised ``` Profit ``` / ``` K ```\n",
    "* **ETF simulation arguments** (``` sims ```): \n",
    " * ``` M ``` ~ Number of days for the M day return\n",
    " * ``` g ``` ~ Entry barrier\n",
    " * ``` j ``` ~ Exit barrier\n",
    " * ``` X_code ``` ~ Quandl code of security X\n",
    " * ``` Y_code ``` ~ Quandl code of security Y\n",
    " * ``` X_close ``` ~ Column name for adjusted close price of X\n",
    " * ``` X_volume ``` ~ Column name for adjusted volume of X\n",
    " * ``` Y_close ``` ~ Column name for adjusted close price of Y\n",
    " * ``` Y_colume ``` ~ Column name for adjusted volume of Y\n",
    "* **Fama-French daily factor returns** (``` FF_data ```): \n",
    " * ``` Mkt-RF ``` ~ Market return\n",
    " * ``` SMB ``` ~ Small minus big return\n",
    " * ``` HML ``` ~ High minus low return\n",
    " * ``` RF ``` ~ Risk free return\n",
    "* **Sharpe and Sortino ratios on returns** (``` Ratios ```): \n",
    " * ``` ETF ``` ~ ETF number \n",
    " * ``` Sharpe ``` ~ Sharpe ratio: $\\frac{E[r-r_b]}{\\sqrt{(r-r_b)^2}}$\n",
    " * ``` Sortino ``` ~ Sortino ratio: $\\frac{E[r-r_b]}{\\sqrt{(r-r_b)^2 | r > r_b}}$\n",
    "* **Individual regressions** (``` Indiv ```): \n",
    " * ``` ETF ``` ~ ETF number\n",
    " * ``` SMB ``` ~ SMB regression coefficient\n",
    " * ``` SMB Sharpe ``` ~ SMB regression Sharpe ratio\n",
    " * ``` SMB Sortino ``` ~ SMB regression Sortino ratio\n",
    " * ``` HML ``` ~ HML regression coefficient\n",
    " * ``` HML Sharpe ``` ~ HML regression Sharpe ratio\n",
    " * ``` HML Sortino ``` ~ HML regression Sortino ratio\n",
    " * ``` RF ``` ~ RF regression coefficient\n",
    " * ``` RF Sharpe ``` ~ RF regression Sharpe ratio\n",
    " * ``` RF Sortino ``` ~ RF regression Sortino ratio\n",
    " * ``` Mkt-RF ``` ~ Mkt-RF regression coefficient\n",
    " * ``` Mkt-RF Sharpe ``` ~ Mkt-RF regression Sharpe ratio\n",
    " * ``` Mkt-RF Sortino ``` ~ Mkt-RF regression Sortino ratio\n",
    "* **Multivariate regressions** (``` Multi ```): \n",
    " * ``` ETF ``` ~ ETF number \n",
    " * ``` SMB ``` ~ SMB regression coefficient\n",
    " * ``` HML ``` ~ HML regression coefficient\n",
    " * ``` RF ``` ~ RF regression coefficient\n",
    " * ``` Mkt-RF ``` ~ Mkt-RF regression coefficient\n",
    " * ``` Sharpe ``` ~ Regression Sharpe ratio\n",
    " * ``` Sortino ``` ~ Regression Sortino ratio"
   ]
  },
  {
   "cell_type": "code",
   "execution_count": 5,
   "metadata": {
    "collapsed": true
   },
   "outputs": [],
   "source": [
    "# Michael Beven - 455613\n",
    "# University of Chicago - Financial Mathematics\n",
    "# FINM 33150 - Quantitative Strategies and Regression\n",
    "# Homework 3 \n",
    "\n",
    "# make plots come up in this window - ipython notebook\n",
    "%matplotlib inline\n",
    "\n",
    "# import packages\n",
    "import pandas as pd\n",
    "import numpy as np\n",
    "import Quandl\n",
    "from statsmodels.regression.linear_model import OLS\n",
    "\n",
    "# set global variables\n",
    "auth = \"v21snmSix9KyXBWc1RkF\"\n",
    "start_date = \"2013-12-02\"\n",
    "trade_begin = \"2014-01-01\"\n",
    "end_date = \"2015-12-31\""
   ]
  },
  {
   "cell_type": "code",
   "execution_count": 6,
   "metadata": {
    "collapsed": true
   },
   "outputs": [],
   "source": [
    "# reversion strategy function\n",
    "def strat(M,g,j,X_code,Y_code,X_close,X_volume,Y_close,Y_volume):\n",
    "  \"\"\"\n",
    "  This function creates a dataframe with results to a spread trading strategy\n",
    "  (see HW2 of FINM 33150 - Quantitative Strategies and Regression)\n",
    "  Inputs:\n",
    "  M ~ return difference calculation time frame.  M cannot exceed the number of \n",
    "  trading days between 2013-12-02 and 2014-01-01\n",
    "  g ~ entering threshold\n",
    "  j ~ exiting threshold\n",
    "  s ~ stop loss threshold\n",
    "  X_code ~ Quandl code for X\n",
    "  Y_code ~ Quandl code for Y\n",
    "  X_close ~ X column name for close\n",
    "  X_volume ~ X column name for volume\n",
    "  Y_close ~ Y column name for close\n",
    "  Y_volume ~ Y column name for volume\n",
    "  Example of calling function:\n",
    "  strat(10,0.01,0.008,0.10,'GOOG/NYSE_XSD','YAHOO/SMH','GOOG.NYSE_XSD - Close',\n",
    "  'GOOG.NYSE_XSD - Volume','YAHOO.SMH - Close','YAHOO.SMH - Volume')\n",
    "  \"\"\"\n",
    "  # grab data using Quandl\n",
    "  ETF_data = Quandl.get(list((X_code,Y_code)),authtoken=auth,trim_start=start_date,trim_end=end_date,returns=\"pandas\")\n",
    "  df = pd.DataFrame(ETF_data.ix[:,(X_close,X_volume,Y_close,Y_volume)]) #subset\n",
    "  df.columns = ['XP','XV','YP','YV']\n",
    "  df['XDDV'] = df.XP*df.XV # calculate daily dollar volumes\n",
    "  df['Nt'] = pd.rolling_median(df.XDDV,15)# 15 day rolling median\n",
    "  K = np.max(2*df.Nt) # capital - set K now that we have Nt\n",
    "  df['XR'] = np.log(df.XP) - np.log(df.XP.shift(1)) #logrets\n",
    "  df['YR'] = np.log(df.YP) - np.log(df.YP.shift(1))\n",
    "  df['Delta'] = df.XR-df.YR # difference of X and Y\n",
    "  df['DeltaM'] = pd.rolling_sum(df.Delta,M)#M day accumulated difference \n",
    "  df = df[df.index >= trade_begin] # drop unnecessary date range\n",
    "  df['Signal'] = np.nan # add empty trade signal column\n",
    "  df.Signal[df.DeltaM > g] = 1 # entering or maintaining trade\n",
    "  df.Signal[df.DeltaM < -g] = -1 # entering or maintaining trade\n",
    "  df.Signal[np.abs(df.DeltaM) < j] = 0 # exiting or out of trade\n",
    "  df['EOM'] = np.nan # end of month\n",
    "  df.EOM[(df.shift(1,freq='B').index.day <= 3) & (df.shift(1,freq='B').index.day-df.index.day < -1)] = 1 # day before 1st day\n",
    "  df.Signal[(df.shift(1,freq='B').index.day <= 3) & (df.shift(1,freq='B').index.day-df.index.day < -1)] = 0\n",
    "  for i in range(1,len(df)):\n",
    "    if np.isnan(df.Signal[i]):# if between g and j\n",
    "      df.Signal[i] = df.Signal[i-1] # fill in with current position\n",
    "  df.Signal[((df.Signal == -1) & (df.DeltaM > j)) | (df.Signal == 1) & (df.DeltaM < j)] = 0\n",
    "  df['Entry'] = 1*(((df.Signal == 1) | (df.Signal == -1)) & (df.shift(1).Signal == 0)) # entry point\n",
    "  df['Exit'] = 1*((df.Signal == 0) & ((df.shift(1).Signal == 1) | (df.shift(1).Signal == -1))) # exit point\n",
    "  df['Nx'] = np.round(df.Signal*df.Nt/100/df.XP,0) # size of X trade\n",
    "  df['Ny'] = np.round(df.Signal*df.Nt/100/df.YP,0) # size of Y trade\n",
    "  df['Profit'] = pd.DataFrame(df.Signal*(df.Nx.shift(1)*df.XP.shift(1)*df.XR)-df.Ny.shift(1)*df.YP.shift(1)*df.YR) # dollar profit(loss)\n",
    "  df['Cum_Profit'] = np.cumsum(df.Profit) #cumulative profit\n",
    "  df['K'] = np.round(K + df.Cum_Profit,0) # capital based on changes in profit  \n",
    "  df['Return'] = 252*df.Profit/df.K.shift(1) # annualised returns  \n",
    "  df = np.round(df,3) # round\n",
    "  return df"
   ]
  },
  {
   "cell_type": "code",
   "execution_count": 7,
   "metadata": {
    "collapsed": false
   },
   "outputs": [
    {
     "name": "stdout",
     "output_type": "stream",
     "text": [
      "    M       g       j    X_code   Y_code               X_close  \\\n",
      "0  20  0.0200  0.0010   EOD/RYU  EOD/XLU   EOD.RYU - Adj_Close   \n",
      "1  20  0.0600  0.0470   EOD/IST  EOD/IYZ   EOD.IST - Adj_Close   \n",
      "2  20  0.0210  0.0030  EOD/RING  EOD/GDX  EOD.RING - Adj_Close   \n",
      "3  20  0.0450  0.0030   EOD/XSD  EOD/SMH   EOD.XSD - Adj_Close   \n",
      "4  20  0.0025  0.0015   EOD/PBE  EOD/XBI   EOD.PBE - Adj_Close   \n",
      "5  20  0.0200  0.0140   EOD/PXJ  EOD/OIH   EOD.PXJ - Adj_Close   \n",
      "6  20  0.0340  0.0015   EOD/IEO  EOD/XOP   EOD.IEO - Adj_Close   \n",
      "7  20  0.0550  0.0130   EOD/RTH  EOD/XRT   EOD.RTH - Adj_Close   \n",
      "8  20  0.0019  0.0007  EOD/SIVR  EOD/SLV  EOD.SIVR - Adj_Close   \n",
      "9  20  0.0800  0.0100  EOD/HYLD  EOD/JNK  EOD.HYLD - Adj_Close   \n",
      "\n",
      "                X_volume              Y_close              Y_volume  \n",
      "0   EOD.RYU - Adj_Volume  EOD.XLU - Adj_Close  EOD.XLU - Adj_Volume  \n",
      "1   EOD.IST - Adj_Volume  EOD.IYZ - Adj_Close  EOD.IYZ - Adj_Volume  \n",
      "2  EOD.RING - Adj_Volume  EOD.GDX - Adj_Close  EOD.GDX - Adj_Volume  \n",
      "3   EOD.XSD - Adj_Volume  EOD.SMH - Adj_Close  EOD.SMH - Adj_Volume  \n",
      "4   EOD.PBE - Adj_Volume  EOD.XBI - Adj_Close  EOD.XBI - Adj_Volume  \n",
      "5   EOD.PXJ - Adj_Volume  EOD.OIH - Adj_Close  EOD.OIH - Adj_Volume  \n",
      "6   EOD.IEO - Adj_Volume  EOD.XOP - Adj_Close  EOD.XOP - Adj_Volume  \n",
      "7   EOD.RTH - Adj_Volume  EOD.XRT - Adj_Close  EOD.XRT - Adj_Volume  \n",
      "8  EOD.SIVR - Adj_Volume  EOD.SLV - Adj_Close  EOD.SLV - Adj_Volume  \n",
      "9  EOD.HYLD - Adj_Volume  EOD.JNK - Adj_Close  EOD.JNK - Adj_Volume  \n"
     ]
    }
   ],
   "source": [
    "# set up a dataframe of the simulations to run\n",
    "sims = pd.DataFrame(columns=['M','g','j','X_code','Y_code','X_close','X_volume','Y_close','Y_volume'])\n",
    "sims.loc[0] = [20,0.02,0.001,'EOD/RYU','EOD/XLU','EOD.RYU - Adj_Close','EOD.RYU - Adj_Volume','EOD.XLU - Adj_Close','EOD.XLU - Adj_Volume']\n",
    "sims.loc[1] = [20,0.060,0.047,'EOD/IST','EOD/IYZ','EOD.IST - Adj_Close','EOD.IST - Adj_Volume','EOD.IYZ - Adj_Close','EOD.IYZ - Adj_Volume']\n",
    "sims.loc[2] = [20,0.021,0.003,'EOD/RING','EOD/GDX','EOD.RING - Adj_Close','EOD.RING - Adj_Volume','EOD.GDX - Adj_Close','EOD.GDX - Adj_Volume']\n",
    "sims.loc[3] = [20,0.045,0.003,'EOD/XSD','EOD/SMH','EOD.XSD - Adj_Close','EOD.XSD - Adj_Volume','EOD.SMH - Adj_Close','EOD.SMH - Adj_Volume']\n",
    "sims.loc[4] = [20,0.0025,0.0015,'EOD/PBE','EOD/XBI','EOD.PBE - Adj_Close','EOD.PBE - Adj_Volume','EOD.XBI - Adj_Close','EOD.XBI - Adj_Volume']\n",
    "sims.loc[5] = [20,0.02,0.014,'EOD/PXJ','EOD/OIH','EOD.PXJ - Adj_Close','EOD.PXJ - Adj_Volume','EOD.OIH - Adj_Close','EOD.OIH - Adj_Volume']\n",
    "sims.loc[6] = [20,0.034,0.0015,'EOD/IEO','EOD/XOP','EOD.IEO - Adj_Close','EOD.IEO - Adj_Volume','EOD.XOP - Adj_Close','EOD.XOP - Adj_Volume']\n",
    "sims.loc[7] = [20,0.055,0.013,'EOD/RTH','EOD/XRT','EOD.RTH - Adj_Close','EOD.RTH - Adj_Volume','EOD.XRT - Adj_Close','EOD.XRT - Adj_Volume']\n",
    "sims.loc[8] = [20,0.0019,0.0007,'EOD/SIVR','EOD/SLV','EOD.SIVR - Adj_Close','EOD.SIVR - Adj_Volume','EOD.SLV - Adj_Close','EOD.SLV - Adj_Volume']\n",
    "sims.loc[9] = [20,0.08,0.01,'EOD/HYLD','EOD/JNK','EOD.HYLD - Adj_Close','EOD.HYLD - Adj_Volume','EOD.JNK - Adj_Close','EOD.JNK - Adj_Volume']\n",
    "print(sims)"
   ]
  },
  {
   "cell_type": "code",
   "execution_count": 8,
   "metadata": {
    "collapsed": false
   },
   "outputs": [],
   "source": [
    "# create all data frames\n",
    "dfs = {}\n",
    "for i in range(0,9):\n",
    "  dfs['df'+str(i)] = strat(sims.ix[i,'M'],sims.ix[i,'g'],sims.ix[i,'j'],sims.ix[i,'X_code'],sims.ix[i,'Y_code'],sims.ix[i,'X_close'],sims.ix[i,'X_volume'],sims.ix[i,'Y_close'],sims.ix[i,'Y_volume'])"
   ]
  },
  {
   "cell_type": "code",
   "execution_count": 9,
   "metadata": {
    "collapsed": false
   },
   "outputs": [
    {
     "name": "stdout",
     "output_type": "stream",
     "text": [
      "            Mkt-RF   SMB   HML  RF\n",
      "Date                              \n",
      "2014-01-02   -0.88 -0.24  0.11   0\n",
      "2014-01-03    0.03  0.37  0.03   0\n",
      "2014-01-06   -0.34 -0.56  0.26   0\n",
      "2014-01-07    0.68  0.37 -0.39   0\n",
      "2014-01-08    0.04  0.02 -0.23   0\n"
     ]
    }
   ],
   "source": [
    "# FF data\n",
    "FF_data = Quandl.get('KFRENCH/FACTORS_D',authtoken=auth,trim_start=trade_begin,trim_end=end_date,returns=\"pandas\")\n",
    "print(FF_data.head())"
   ]
  },
  {
   "cell_type": "code",
   "execution_count": 10,
   "metadata": {
    "collapsed": false,
    "scrolled": true
   },
   "outputs": [
    {
     "name": "stdout",
     "output_type": "stream",
     "text": [
      "   ETF    Sharpe   Sortino\n",
      "0  df0  0.012733  0.004627\n",
      "1  df1  0.037462  0.009688\n",
      "2  df2  0.050536  0.016579\n",
      "3  df3  0.012591  0.006828\n",
      "4  df4  0.035155  0.034704\n",
      "5  df5  0.033817  0.013325\n",
      "6  df6  0.021711  0.011802\n",
      "7  df7  0.040183  0.011838\n",
      "8  df8  0.039080  0.013594\n"
     ]
    }
   ],
   "source": [
    "# ratios\n",
    "Ratios = pd.DataFrame(columns=['ETF','Sharpe','Sortino'])  \n",
    "for i in range(0,9):\n",
    "  df = dfs['df'+str(i)]\n",
    "  Sharpe = (np.mean(df.Return - FF_data['RF']/100))/np.sqrt(np.mean(np.power(df.Return - FF_data['RF']/100,2)))\n",
    "  Sortino = (np.mean(df.Return - FF_data['RF']/100))/np.sqrt(np.mean(np.power(df.Return[df.Return > FF_data['RF']] - FF_data['RF'][df.Return > FF_data['RF']],2)))\n",
    "  Ratios.loc[i] = ['df'+str(i),Sharpe,Sortino]\n",
    "print(Ratios)"
   ]
  },
  {
   "cell_type": "code",
   "execution_count": 11,
   "metadata": {
    "collapsed": false
   },
   "outputs": [
    {
     "name": "stdout",
     "output_type": "stream",
     "text": [
      "   ETF       SMB  SMB Sharpe  SMB Sortino       HML  HML Sharpe  HML Sortino  \\\n",
      "0  df0  0.000174    0.016196     0.018057  0.000056    0.014043     0.016142   \n",
      "1  df1 -0.000424    0.033214     0.027961 -0.000086    0.036269     0.029166   \n",
      "2  df2  0.001373    0.052621     0.045841  0.003268    0.057264     0.051435   \n",
      "3  df3  0.001134    0.015514     0.019016 -0.001376    0.007901     0.008924   \n",
      "4  df4  0.004707    0.045477     0.048158 -0.007065    0.017492     0.018163   \n",
      "5  df5  0.000957    0.035989     0.031338  0.002273    0.040792     0.036584   \n",
      "6  df6 -0.001655    0.015290     0.013502 -0.001541    0.014725     0.012850   \n",
      "7  df7 -0.000305    0.035316     0.030708 -0.000111    0.037719     0.031358   \n",
      "8  df8 -0.000147    0.038238     0.034430  0.000207    0.040809     0.039392   \n",
      "\n",
      "   RF  RF Sharpe  RF Sortino    Mkt-RF  Mkt-RF Sharpe  Mkt-RF Sortino  \n",
      "0   0   0.012733    0.004627  0.000129       0.008334        0.008787  \n",
      "1   0   0.037462    0.009688  0.000461       0.031899        0.026349  \n",
      "2   0   0.050536    0.016579 -0.000136       0.050794        0.045291  \n",
      "3   0   0.012591    0.006828  0.002207       0.005619        0.006538  \n",
      "4   0   0.035155    0.034704  0.003488       0.027483        0.029333  \n",
      "5   0   0.033817    0.013325  0.002752       0.026823        0.022492  \n",
      "6   0   0.021711    0.011802 -0.000469       0.023949        0.021805  \n",
      "7   0   0.040183    0.011838 -0.000309       0.047871        0.044662  \n",
      "8   0   0.039080    0.013594 -0.000094       0.039842        0.038127  \n"
     ]
    }
   ],
   "source": [
    "# individual regressions\n",
    "Indiv = pd.DataFrame(columns=['ETF','SMB','SMB Sharpe','SMB Sortino','HML','HML Sharpe','HML Sortino','RF','RF Sharpe','RF Sortino','Mkt-RF','Mkt-RF Sharpe','Mkt-RF Sortino'])\n",
    "for i in range(0,9):\n",
    "  df = dfs['df'+str(i)]\n",
    "  SMB = OLS(df.Return,FF_data.SMB,missing='drop').fit()\n",
    "  SMB_p = SMB.params['SMB']\n",
    "  SMB_Sharpe = np.mean(SMB.resid)/np.sqrt(np.mean(np.power(SMB.resid,2)))\n",
    "  SMB_Sortino = np.mean(SMB.resid)/np.sqrt(np.mean(np.power(SMB.resid[SMB.resid>0],2)))\n",
    "  HML = OLS(df.Return,FF_data.HML,missing='drop').fit()\n",
    "  HML_p = HML.params['HML']\n",
    "  HML_Sharpe = np.mean(HML.resid)/np.sqrt(np.mean(np.power(HML.resid,2)))\n",
    "  HML_Sortino = np.mean(HML.resid)/np.sqrt(np.mean(np.power(HML.resid[HML.resid>0],2)))\n",
    "  RF = OLS(df.Return,FF_data.RF,missing='drop').fit()\n",
    "  RF_p = RF.params['RF']\n",
    "  RF_Sharpe = np.mean(RF.resid)/np.sqrt(np.mean(np.power(RF.resid,2)))\n",
    "  RF_Sortino = np.mean(RF.resid)/np.sqrt(np.mean(np.power(RF.resid[RF.resid>0],2)))\n",
    "  MktRF = OLS(df.Return,FF_data['Mkt-RF'],missing='drop').fit()\n",
    "  MktRF_p = MktRF.params['Mkt-RF']\n",
    "  MktRF_Sharpe = np.mean(MktRF.resid)/np.sqrt(np.mean(np.power(MktRF.resid,2)))\n",
    "  MktRF_Sortino = np.mean(MktRF.resid)/np.sqrt(np.mean(np.power(MktRF.resid[MktRF.resid>0],2)))\n",
    "  Indiv.loc[i] = ['df'+str(i),SMB_p,SMB_Sharpe,SMB_Sortino,HML_p,HML_Sharpe,HML_Sortino,RF_p,RF_Sharpe,RF_Sortino,MktRF_p,MktRF_Sharpe,MktRF_Sortino]\n",
    "print(Indiv)"
   ]
  },
  {
   "cell_type": "code",
   "execution_count": 12,
   "metadata": {
    "collapsed": false
   },
   "outputs": [
    {
     "name": "stdout",
     "output_type": "stream",
     "text": [
      "   ETF       SMB       HML  RF    Mkt-RF    Sharpe   Sortino\n",
      "0  df0  0.000202  0.000167   0  0.000134  0.016124  0.017942\n",
      "1  df1 -0.000541 -0.000129   0  0.000482  0.024219  0.020040\n",
      "2  df2  0.002556  0.004215   0  0.000088  0.062989  0.056179\n",
      "3  df3  0.000647 -0.000480   0  0.002126  0.005899  0.006980\n",
      "4  df4  0.002759 -0.005173   0  0.002857  0.021635  0.022539\n",
      "5  df5  0.001524  0.003766   0  0.002998  0.041745  0.036187\n",
      "6  df6 -0.002271 -0.002524   0 -0.000558  0.003738  0.003190\n",
      "7  df7 -0.000347 -0.000336   0 -0.000318  0.034803  0.031298\n",
      "8  df8 -0.000092  0.000151   0 -0.000075  0.040420  0.038836\n"
     ]
    }
   ],
   "source": [
    "# mutlvariate regressions\n",
    "Multi = pd.DataFrame(columns=['ETF','SMB','HML','RF','Mkt-RF','Sharpe','Sortino'])\n",
    "for i in range(0,9):\n",
    "  df = dfs['df'+str(i)]\n",
    "  Reg = OLS(df.Return,FF_data,missing='drop').fit()\n",
    "  Reg_p = Reg.params\n",
    "  Reg_Sharpe = np.mean(Reg.resid)/np.sqrt(np.mean(np.power(Reg.resid,2)))\n",
    "  Reg_Sortino = np.mean(Reg.resid)/np.sqrt(np.mean(np.power(Reg.resid[Reg.resid>0],2)))\n",
    "  Multi.loc[i] = ['df'+str(i),Reg_p['SMB'],Reg_p['HML'],Reg_p['RF'],Reg_p['Mkt-RF'],Reg_Sharpe,Reg_Sortino]\n",
    "print(Multi)  \n"
   ]
  }
 ],
 "metadata": {
  "kernelspec": {
   "display_name": "Python 3",
   "language": "python",
   "name": "python3"
  },
  "language_info": {
   "codemirror_mode": {
    "name": "ipython",
    "version": 3
   },
   "file_extension": ".py",
   "mimetype": "text/x-python",
   "name": "python",
   "nbconvert_exporter": "python",
   "pygments_lexer": "ipython3",
   "version": "3.4.4"
  }
 },
 "nbformat": 4,
 "nbformat_minor": 0
}
